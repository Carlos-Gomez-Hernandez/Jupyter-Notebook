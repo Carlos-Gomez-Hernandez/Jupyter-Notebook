{
 "cells": [
  {
   "cell_type": "markdown",
   "metadata": {},
   "source": [
    "# <ins><font color='#4B6285'>SETUP YOUR WINDOWS SYSTEM VARIABLES</font></ins>"
   ]
  },
  {
   "cell_type": "markdown",
   "metadata": {},
   "source": [
    "### <font color='##005959'> 1 - Go to: </font>\n",
    "\n",
    "**Control Panel \\ System and Security \\ System**\n",
    "\n",
    "Advanced System Settings   - >  Advanced  ->  Envirorment Variables\n",
    "\n",
    "\n"
   ]
  },
  {
   "cell_type": "markdown",
   "metadata": {},
   "source": [
    "### <font color='##005959'>  2 - Settup your [ email ] &  [ email_password ] system variables </font>\n",
    "Or make a configuration .py file"
   ]
  },
  {
   "cell_type": "markdown",
   "metadata": {},
   "source": [
    "### <font color='##005959'> 3 - Build Variable Utils script </font>"
   ]
  },
  {
   "cell_type": "code",
   "execution_count": 1,
   "metadata": {},
   "outputs": [],
   "source": [
    "import os\n",
    "import credentials\n",
    "\n",
    "user = credentials.password\n",
    "password = credentials.email\n"
   ]
  },
  {
   "cell_type": "markdown",
   "metadata": {},
   "source": [
    "# <ins><font color='#4B6285'> ALLOW LESS SECURE APP ACCESS IN YOUR </font></ins>"
   ]
  },
  {
   "cell_type": "markdown",
   "metadata": {},
   "source": [
    "### <font color='##005959'>1 - Go to: </font>"
   ]
  },
  {
   "cell_type": "markdown",
   "metadata": {},
   "source": [
    "https://myaccount.google.com/lesssecureapps"
   ]
  },
  {
   "cell_type": "markdown",
   "metadata": {},
   "source": [
    "**Allow Less secure Apps :** ON \n",
    "<br></br> \n",
    "If you have two factor autentication in your email, you would need to create an apppassword at this URL:\n",
    "https://myaccount.google.com/"
   ]
  },
  {
   "cell_type": "markdown",
   "metadata": {},
   "source": [
    "# <ins><font color='#4B6285'> SEND EMAIL SCRIPT </font></ins>"
   ]
  },
  {
   "cell_type": "markdown",
   "metadata": {},
   "source": [
    "The most basic way of drafting an email using SMTP connection.\n",
    "- SMTP connection for gmail is port 587."
   ]
  },
  {
   "cell_type": "code",
   "execution_count": 2,
   "metadata": {},
   "outputs": [],
   "source": [
    "import os\n",
    "import smtplib\n",
    "import credentials\n",
    "\n",
    "'''\n",
    "If using system variables\n",
    "\n",
    "EMAIL_ADDRESS = os.environ.get('EMAIL_USERS')\n",
    "EMAIL_PASSWORD = os.environ.get('EMAIL_PASS')\n",
    "'''\n",
    "EMAIL_ADDRESS = credentials.email\n",
    "EMAIL_PASSWORD = credentials.password\n",
    "\n",
    "\n",
    "with smtplib.SMTP('smtp.gmail.com', 587) as smtp:\n",
    "    smtp.ehlo()\n",
    "    smtp.starttls()\n",
    "    smtp.ehlo()\n",
    "    \n",
    "    smtp.login(EMAIL_ADDRESS, EMAIL_PASSWORD)\n",
    "    \n",
    "    subject = 'Testing EMail py '\n",
    "    body = 'this is a test'\n",
    "    \n",
    "    msg = f'Subject : {subject}\\n\\n{body}'\n",
    "    \n",
    "    smtp.sendmail(EMAIL_ADDRESS, 'carlosgomez.h88@gmail.com', msg )\n",
    "    "
   ]
  },
  {
   "cell_type": "markdown",
   "metadata": {},
   "source": [
    "# <ins><font color='#4B6285'> SEND MORE COMPLEX EMAIL </font></ins>"
   ]
  },
  {
   "cell_type": "markdown",
   "metadata": {},
   "source": [
    "Create fancy emails using SSL connection:\n",
    "- SSL connection for gmail is port 465."
   ]
  },
  {
   "cell_type": "code",
   "execution_count": 3,
   "metadata": {},
   "outputs": [],
   "source": [
    "import os\n",
    "import smtplib\n",
    "from email.message import EmailMessage\n",
    "import credentials\n",
    "\n",
    "'''\n",
    "If using system variables\n",
    "\n",
    "EMAIL_ADDRESS = os.environ.get('EMAIL_USERS')\n",
    "EMAIL_PASSWORD = os.environ.get('EMAIL_PASS')\n",
    "'''\n",
    "EMAIL_ADDRESS = credentials.email\n",
    "EMAIL_PASSWORD = credentials.password\n",
    "\n",
    "msg = EmailMessage()\n",
    "msg['Subject'] = 'Testing EMail py '\n",
    "msg['From'] = EMAIL_ADDRESS\n",
    "msg['To'] = 'carlosgomez.h88@gmail.com'\n",
    "msg.set_content('this is a test')\n",
    "\n",
    "with smtplib.SMTP_SSL('smtp.gmail.com', 465) as smtp:\n",
    "    smtp.login(EMAIL_ADDRESS, EMAIL_PASSWORD)\n",
    "    smtp.send_message( msg )\n",
    "    "
   ]
  },
  {
   "cell_type": "markdown",
   "metadata": {},
   "source": [
    "### <font color='##005959'>Send attachments </font>\n",
    "Each Attachment will have to be read separatelly and evaluated what type and suptype they are."
   ]
  },
  {
   "cell_type": "code",
   "execution_count": 41,
   "metadata": {},
   "outputs": [],
   "source": [
    "import os\n",
    "import smtplib\n",
    "import imghdr\n",
    "from email.message import EmailMessage\n",
    "import credentials\n",
    "\n",
    "EMAIL_ADDRESS = credentials.email\n",
    "EMAIL_PASSWORD = credentials.password\n",
    "\n",
    "msg = EmailMessage()\n",
    "msg['Subject'] = 'Testing EMail py '\n",
    "msg['From'] = EMAIL_ADDRESS\n",
    "msg['To'] = 'carlosgomez.h88@gmail.com'\n",
    "msg.set_content('this is a test')\n",
    "\n",
    "#Define what files you want.\n",
    "file = ['pdf_1.pdf', 'image_1.JPG', 'file_1.csv']\n",
    "\n",
    "\n",
    "#FOR IMAGES:\n",
    "with open(file[1], 'rb') as f:\n",
    "    file_data= f.read() #get the data of the file\n",
    "    file_type = imghdr.what(f.name) #this tells us what type of file this is JPGE.\n",
    "    file_name = f.name #get file name\n",
    "    \n",
    "msg.add_attachment(file_data, \n",
    "                  maintype = 'image',\n",
    "                  subtype = file_type,\n",
    "                  filename = file_name)\n",
    "\n",
    "#FOR PDF, CSV and any other TXT:\n",
    "with open(file[2], 'rb') as f:\n",
    "    file_data= f.read() #get the data of the file\n",
    "    file_name = f.name #get file name\n",
    "    \n",
    "msg.add_attachment(file_data, \n",
    "                  maintype = 'application', # GENERIC BAG OF BITS TYPE\n",
    "                  subtype = 'octet-stream', # GENERIC BAG OF BITS TYPE\n",
    "                  filename = file_name)\n",
    "\n",
    "#Send Email\n",
    "with smtplib.SMTP_SSL('smtp.gmail.com', 465) as smtp:\n",
    "    smtp.login(EMAIL_ADDRESS, EMAIL_PASSWORD)\n",
    "    smtp.send_message( msg )\n",
    "    "
   ]
  },
  {
   "cell_type": "markdown",
   "metadata": {},
   "source": [
    "### <font color='##005959'>DETERMINE THE FILE TYPES DYNAMICALLY </font>"
   ]
  },
  {
   "cell_type": "code",
   "execution_count": null,
   "metadata": {},
   "outputs": [],
   "source": [
    "#SAMPLE\n",
    "'''\n",
    "fileToSend = \"hi.csv\"\n",
    "\n",
    "msg = MIMEMultipart()\n",
    "\n",
    "\n",
    "ctype, encoding = mimetypes.guess_type(fileToSend)\n",
    "if ctype is None or encoding is not None:\n",
    "    ctype = \"application/octet-stream\"\n",
    "maintype, subtype = ctype.split(\"/\", 1)\n",
    "\n",
    "\n",
    "if maintype == \"text\":\n",
    "    fp = open(fileToSend)\n",
    "    # Note: we should handle calculating the charset\n",
    "    attachment = MIMEText(fp.read(), _subtype=subtype)\n",
    "    fp.close()\n",
    "elif maintype == \"image\":\n",
    "    fp = open(fileToSend, \"rb\")\n",
    "    attachment = MIMEImage(fp.read(), _subtype=subtype)\n",
    "    fp.close()\n",
    "elif maintype == \"audio\":\n",
    "    fp = open(fileToSend, \"rb\")\n",
    "    attachment = MIMEAudio(fp.read(), _subtype=subtype)\n",
    "    fp.close()\n",
    "else:\n",
    "    fp = open(fileToSend, \"rb\")\n",
    "    attachment = MIMEBase(maintype, subtype)\n",
    "    attachment.set_payload(fp.read())\n",
    "    fp.close()\n",
    "    encoders.encode_base64(attachment)\n",
    "attachment.add_header(\"Content-Disposition\", \"attachment\", filename=fileToSend)\n",
    "msg.attach(attachment)     \n",
    "'''"
   ]
  },
  {
   "cell_type": "code",
   "execution_count": 35,
   "metadata": {},
   "outputs": [],
   "source": [
    "import os\n",
    "import smtplib\n",
    "import credentials\n",
    "import mimetypes\n",
    "from email.mime.multipart import MIMEMultipart\n",
    "from email import encoders\n",
    "from email.message import Message\n",
    "from email.mime.audio import MIMEAudio\n",
    "from email.mime.base import MIMEBase\n",
    "from email.mime.image import MIMEImage\n",
    "from email.mime.text import MIMEText\n",
    "\n",
    "\n",
    "EMAIL_ADDRESS = credentials.email\n",
    "EMAIL_PASSWORD = credentials.password\n",
    "\n",
    "#Define what files you want.\n",
    "file = ['file_1.csv', 'pdf_1.pdf', 'image_1.JPG', 'video_1.mp4' ]\n",
    "\n",
    "for i in file:\n",
    "    ctype, encoding = mimetypes.guess_type(i)\n",
    "    if ctype is None or encoding is not None:\n",
    "        ctype = \"application/octet-stream\"\n",
    "    maintype, subtype = ctype.split(\"/\", 1)\n",
    "\n",
    "    \n",
    "    if maintype == \"text\":\n",
    "        fp = open(i)\n",
    "        # Note: we should handle calculating the charset\n",
    "        attachment = MIMEText(fp.read(), _subtype=subtype)\n",
    "        fp.close()\n",
    "    elif maintype == \"image\":\n",
    "        fp = open(i, \"rb\")\n",
    "        attachment = MIMEImage(fp.read(), _subtype=subtype)\n",
    "        fp.close()\n",
    "    elif maintype == \"audio\":\n",
    "        fp = open(i, \"rb\")\n",
    "        attachment = MIMEAudio(fp.read(), _subtype=subtype)\n",
    "        fp.close()\n",
    "    else:\n",
    "        fp = open(i, \"rb\")\n",
    "        attachment = MIMEBase(maintype, subtype)\n",
    "        attachment.set_payload(fp.read())\n",
    "        fp.close()\n",
    "        encoders.encode_base64(attachment)\n",
    "    attachment.add_header(\"Content-Disposition\", \"attachment\", filename=i)\n",
    "    msg.attach(attachment)\n",
    "    \n",
    "with smtplib.SMTP_SSL('smtp.gmail.com', 465) as smtp:\n",
    "    smtp.login(EMAIL_ADDRESS, EMAIL_PASSWORD)\n",
    "    smtp.send_message( msg )"
   ]
  },
  {
   "cell_type": "markdown",
   "metadata": {},
   "source": [
    "# <ins><font color='#4B6285'> SEND HTML EMAIL </font></ins>"
   ]
  },
  {
   "cell_type": "code",
   "execution_count": 43,
   "metadata": {},
   "outputs": [],
   "source": [
    "import os\n",
    "import smtplib\n",
    "import imghdr\n",
    "from email.message import EmailMessage\n",
    "import credentials\n",
    "\n",
    "EMAIL_ADDRESS = credentials.email\n",
    "EMAIL_PASSWORD = credentials.password\n",
    "\n",
    "msg = EmailMessage()\n",
    "msg['Subject'] = 'Testing EMail py '\n",
    "msg['From'] = EMAIL_ADDRESS\n",
    "msg['To'] = 'carlosgomez.h88@gmail.com'\n",
    "\n",
    "msg.set_content('this is the default message in case HTML fails')\n",
    "\n",
    "#Hardcode HTML on the message\n",
    "msg.add_alternative(\"\"\"\\\n",
    "<!DOCTYPE html>\n",
    "<html>\n",
    "<body>\n",
    "\n",
    "<p>I am normal</p>\n",
    "<p style=\"color:red;\">I am red</p>\n",
    "<p style=\"color:blue;\">I am blue</p>\n",
    "<p style=\"font-size:50px;\">I am big</p>\n",
    "\n",
    "</body>\n",
    "</html>\n",
    "\"\"\", subtype='html')\n",
    "\n",
    "#Attach HTML file to the message\n",
    "\n",
    "\n",
    "\n",
    "#Send Email\n",
    "with smtplib.SMTP_SSL('smtp.gmail.com', 465) as smtp:\n",
    "    smtp.login(EMAIL_ADDRESS, EMAIL_PASSWORD)\n",
    "    smtp.send_message( msg )\n",
    "    \n"
   ]
  },
  {
   "cell_type": "code",
   "execution_count": null,
   "metadata": {},
   "outputs": [],
   "source": []
  }
 ],
 "metadata": {
  "kernelspec": {
   "display_name": "Python 3",
   "language": "python",
   "name": "python3"
  },
  "language_info": {
   "codemirror_mode": {
    "name": "ipython",
    "version": 3
   },
   "file_extension": ".py",
   "mimetype": "text/x-python",
   "name": "python",
   "nbconvert_exporter": "python",
   "pygments_lexer": "ipython3",
   "version": "3.8.3"
  }
 },
 "nbformat": 4,
 "nbformat_minor": 4
}

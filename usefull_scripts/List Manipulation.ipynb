{
 "cells": [
  {
   "cell_type": "markdown",
   "metadata": {},
   "source": [
    "# SAMPLE LIST MANIPULATION"
   ]
  },
  {
   "cell_type": "markdown",
   "metadata": {},
   "source": [
    "This example \n"
   ]
  },
  {
   "cell_type": "code",
   "execution_count": null,
   "metadata": {},
   "outputs": [],
   "source": [
    "input_a = \"shiny,dplyr,DT,ggplot2,shinydashboard,plotly\"\n",
    "\n",
    "input_b = \"DT,KMsurv,MatrixModels,RcppArmadillo,Rcpp,RcppEigen,SparseM,abind,car,carData,corrplot,cowplot,exactRankTests,ggpubr,ggrepel,ggridges,ggsci,ggsignif,gridExtrahexbin,km.ci,maxstat,mvtnorm,plotly,qicharts2,qicharts2,rintrojs,rintrojsshinyBS,shinyWidgets\"\n",
    "b = input_b.split(\",\")\n",
    "\n",
    "input_c = \"shiny,DT,dplyr,leaflet\"\n",
    "c = input_c.split(\",\")\n",
    "\n",
    "input_d = \"tidyverse,shiny,shinydashboard,gganimate,ggimage,grid,jpeg,gifski,png,shinycssloaders,rintrojs,googlesheets,plotly,png,sf\"\n",
    "d = input_d.split(\",\")\n",
    "\n",
    "final_list = [a,b,c,d]\n",
    "print(final_list)"
   ]
  },
  {
   "cell_type": "code",
   "execution_count": 2,
   "metadata": {},
   "outputs": [
    {
     "data": {
      "text/plain": [
       "set()"
      ]
     },
     "execution_count": 2,
     "metadata": {},
     "output_type": "execute_result"
    }
   ],
   "source": [
    "set.intersection(*map(set,final_list))"
   ]
  },
  {
   "cell_type": "code",
   "execution_count": 3,
   "metadata": {},
   "outputs": [
    {
     "data": {
      "text/plain": [
       "{'DT', 'ggpubr', 'ggridges', 'plotly', 'qicharts2', 'rintrojs', 'shinyWidgets'}"
      ]
     },
     "execution_count": 3,
     "metadata": {},
     "output_type": "execute_result"
    }
   ],
   "source": [
    "input_x = \"checkpoint,AMR,data.table,DT,ggridges,lubridate,plotly,qicharts2,rintrojs,shiny,shinyBS,shinycssloaders,shinydashboard,shinyjs,shinyWidgets,survival,ggpubr,survminer,tidyverse,viridis,zoo\"\n",
    "x = input_x.split(\",\")\n",
    "\n",
    "x_b = [x,b]\n",
    "\n",
    "set.intersection(*map(set,x_b))"
   ]
  },
  {
   "cell_type": "code",
   "execution_count": 4,
   "metadata": {},
   "outputs": [
    {
     "name": "stdout",
     "output_type": "stream",
     "text": [
      "Missing values in b from x: {'survival', 'survminer', 'shinyjs', 'checkpoint', 'shiny', 'zoo', 'shinydashboard', 'AMR', 'data.table', 'lubridate', 'tidyverse', 'shinyBS', 'viridis', 'shinycssloaders'}\n"
     ]
    }
   ],
   "source": [
    "print(\"Missing values in b from x:\", (set(x).difference(b)))\n"
   ]
  },
  {
   "cell_type": "code",
   "execution_count": 5,
   "metadata": {},
   "outputs": [
    {
     "name": "stdout",
     "output_type": "stream",
     "text": [
      "Missing values in x from b: {'MatrixModels', 'gridExtrahexbin', 'RcppEigen', 'Rcpp', 'car', 'km.ci', 'corrplot', 'mvtnorm', 'KMsurv', 'ggsignif', 'cowplot', 'carData', 'RcppArmadillo', 'exactRankTests', 'rintrojsshinyBS', 'ggsci', 'maxstat', 'abind', 'ggrepel', 'SparseM'}\n"
     ]
    }
   ],
   "source": [
    "print(\"Missing values in x from b:\", (set(b).difference(x)))"
   ]
  },
  {
   "cell_type": "code",
   "execution_count": null,
   "metadata": {},
   "outputs": [],
   "source": []
  }
 ],
 "metadata": {
  "kernelspec": {
   "display_name": "Python 3",
   "language": "python",
   "name": "python3"
  },
  "language_info": {
   "codemirror_mode": {
    "name": "ipython",
    "version": 3
   },
   "file_extension": ".py",
   "mimetype": "text/x-python",
   "name": "python",
   "nbconvert_exporter": "python",
   "pygments_lexer": "ipython3",
   "version": "3.8.3"
  }
 },
 "nbformat": 4,
 "nbformat_minor": 4
}

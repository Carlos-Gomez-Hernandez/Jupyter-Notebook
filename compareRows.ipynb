{
 "cells": [
  {
   "cell_type": "code",
   "execution_count": 1,
   "metadata": {},
   "outputs": [
    {
     "name": "stdout",
     "output_type": "stream",
     "text": [
      "   Product1  Price1\n",
      "0  Computer    1200\n",
      "1     Phone     800\n",
      "2   Printer     200\n",
      "3      Desk     350\n",
      "   Product2  Price2\n",
      "0  Computer     900\n",
      "1     Phone     800\n",
      "2   Printer     300\n",
      "3      Desk     350\n"
     ]
    }
   ],
   "source": [
    "import pandas as pd\n",
    "import numpy as np\n",
    "\n",
    "firstProductSet = {'Product1': ['Computer','Phone','Printer','Desk'],\n",
    "                   'Price1': [1200,800,200,350]\n",
    "                   }\n",
    "df1 = pd.DataFrame(firstProductSet,columns= ['Product1', 'Price1'])\n",
    "print(df1)\n",
    "\n",
    "secondProductSet = {'Product2': ['Computer','Phone','Printer','Desk'],\n",
    "                    'Price2': [900,800,300,350]\n",
    "                    }\n",
    "df2 = pd.DataFrame(secondProductSet,columns= ['Product2', 'Price2'])\n",
    "print (df2)"
   ]
  },
  {
   "cell_type": "code",
   "execution_count": 2,
   "metadata": {},
   "outputs": [],
   "source": [
    "#df1['new column that will contain the comparison results'] = np.where(condition,'value if true','value if false')\n",
    "df1['pricesMatch?'] = np.where(df1['Price1'] == df2['Price2'], 'True', 'False')\n"
   ]
  },
  {
   "cell_type": "code",
   "execution_count": 42,
   "metadata": {},
   "outputs": [],
   "source": [
    "from more_itertools import flatten\n",
    "dataA = [ [ 'a', 1 , 'apple'], ['b', 2 , 'banana'], ['c',3,'pear'] ]\n",
    "dataB = [ [ 'a', 1 , 'apple'], ['b', 2 , 'juice'], ['c',4,'pear'] ]\n",
    "\n",
    "dataA = [dataA for i in range(3000000)] #add 3 million copies\n",
    "dataA = list(flatten(dataA))\n",
    "\n",
    "dataB = [dataB for i in range(3000000)] #add 3 million copies\n",
    "dataB = list(flatten(dataB))\n"
   ]
  },
  {
   "cell_type": "code",
   "execution_count": 43,
   "metadata": {},
   "outputs": [
    {
     "name": "stdout",
     "output_type": "stream",
     "text": [
      "        abc  number   fruit\n",
      "8999995   b       2  banana\n",
      "8999996   c       3    pear\n",
      "8999997   a       1   apple\n",
      "8999998   b       2  banana\n",
      "8999999   c       3    pear\n",
      "        abc  number  fruit\n",
      "8999995   b       2  juice\n",
      "8999996   c       4   pear\n",
      "8999997   a       1  apple\n",
      "8999998   b       2  juice\n",
      "8999999   c       4   pear\n"
     ]
    }
   ],
   "source": [
    "df0 = pd.DataFrame(dataA) \n",
    "df0.columns =['abc', 'number', 'fruit'] \n",
    "print(df0.tail())\n",
    "\n",
    "df1 = pd.DataFrame(dataB) \n",
    "df1.columns =['abc', 'number', 'fruit'] \n",
    "print(df1.tail())"
   ]
  },
  {
   "cell_type": "code",
   "execution_count": 44,
   "metadata": {},
   "outputs": [
    {
     "name": "stdout",
     "output_type": "stream",
     "text": [
      "DataComPy Comparison\n",
      "--------------------\n",
      "\n",
      "DataFrame Summary\n",
      "-----------------\n",
      "\n",
      "  DataFrame  Columns     Rows\n",
      "0  Original        3  9000000\n",
      "1       New        3  9000000\n",
      "\n",
      "Column Summary\n",
      "--------------\n",
      "\n",
      "Number of columns in common: 3\n",
      "Number of columns in Original but not in New: 0\n",
      "Number of columns in New but not in Original: 0\n",
      "\n",
      "Row Summary\n",
      "-----------\n",
      "\n",
      "Matched on: abc\n",
      "Any duplicates on match values: Yes\n",
      "Absolute Tolerance: 0\n",
      "Relative Tolerance: 0\n",
      "Number of rows in common: 9,000,000\n",
      "Number of rows in Original but not in New: 0\n",
      "Number of rows in New but not in Original: 0\n",
      "\n",
      "Number of rows with some compared columns unequal: 6,000,000\n",
      "Number of rows with all compared columns equal: 3,000,000\n",
      "\n",
      "Column Comparison\n",
      "-----------------\n",
      "\n",
      "Number of columns compared with some values unequal: 2\n",
      "Number of columns compared with all values equal: 1\n",
      "Total number of values which compare unequal: 6,000,000\n",
      "\n",
      "Columns with Unequal Values or Types\n",
      "------------------------------------\n",
      "\n",
      "   Column Original dtype New dtype  # Unequal  Max Diff  # Null Diff\n",
      "0   fruit         object    object    3000000       0.0            0\n",
      "1  number          int64     int64    3000000       1.0            0\n",
      "\n",
      "Sample Rows with Unequal Values\n",
      "-------------------------------\n",
      "\n",
      "        abc fruit (Original) fruit (New)\n",
      "3765208   b           banana       juice\n",
      "4492786   b           banana       juice\n",
      "128083    b           banana       juice\n",
      "7956349   b           banana       juice\n",
      "7480357   b           banana       juice\n",
      "2052982   b           banana       juice\n",
      "36013     b           banana       juice\n",
      "8675908   b           banana       juice\n",
      "5712142   b           banana       juice\n",
      "3358783   b           banana       juice\n",
      "\n",
      "        abc  number (Original)  number (New)\n",
      "460733    c                  3             4\n",
      "8372606   c                  3             4\n",
      "469208    c                  3             4\n",
      "4308995   c                  3             4\n",
      "807068    c                  3             4\n",
      "2350595   c                  3             4\n",
      "2287919   c                  3             4\n",
      "4587437   c                  3             4\n",
      "3891674   c                  3             4\n",
      "8184029   c                  3             4\n",
      "\n",
      "\n"
     ]
    }
   ],
   "source": [
    "#pip install datacompy\n",
    "import datacompy, pandas as pd\n",
    "compare = datacompy.Compare(\n",
    "df0,\n",
    "df1,\n",
    "join_columns= 'abc',  #You can also specify a list of columns eg ['policyID','statecode']\n",
    "abs_tol=0, #Optional, defaults to 0\n",
    "rel_tol=0, #Optional, defaults to 0\n",
    "df1_name='Original', #Optional, defaults to 'df0'\n",
    "df2_name='New' #Optional, defaults to 'df1'\n",
    ")\n",
    "print(compare.report())\n"
   ]
  },
  {
   "cell_type": "code",
   "execution_count": null,
   "metadata": {},
   "outputs": [],
   "source": []
  }
 ],
 "metadata": {
  "kernelspec": {
   "display_name": "Python 3",
   "language": "python",
   "name": "python3"
  },
  "language_info": {
   "codemirror_mode": {
    "name": "ipython",
    "version": 3
   },
   "file_extension": ".py",
   "mimetype": "text/x-python",
   "name": "python",
   "nbconvert_exporter": "python",
   "pygments_lexer": "ipython3",
   "version": "3.8.3"
  }
 },
 "nbformat": 4,
 "nbformat_minor": 4
}

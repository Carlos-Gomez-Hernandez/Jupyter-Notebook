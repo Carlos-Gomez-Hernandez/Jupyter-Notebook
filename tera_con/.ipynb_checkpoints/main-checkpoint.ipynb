{
 "cells": [
  {
   "cell_type": "markdown",
   "metadata": {},
   "source": [
    "# Import libraries, queries.py and credentials.py"
   ]
  },
  {
   "cell_type": "code",
   "execution_count": 119,
   "metadata": {},
   "outputs": [],
   "source": [
    "import pandas as pd\n",
    "import pyodbc\n",
    "import os\n",
    "import credentials #credentials.py located in this directory\n",
    "import queries #queries.py located in this directory"
   ]
  },
  {
   "cell_type": "markdown",
   "metadata": {},
   "source": [
    "# Connect to Database ,Query Data & Dump Results Into Dataframe."
   ]
  },
  {
   "cell_type": "code",
   "execution_count": 127,
   "metadata": {},
   "outputs": [
    {
     "ename": "AttributeError",
     "evalue": "module 'queries' has no attribute 'data_limit_exceed_time_days_dlist'",
     "output_type": "error",
     "traceback": [
      "\u001b[1;31m---------------------------------------------------------------------------\u001b[0m",
      "\u001b[1;31mAttributeError\u001b[0m                            Traceback (most recent call last)",
      "\u001b[1;32m<ipython-input-127-0e41fad714b8>\u001b[0m in \u001b[0;36m<module>\u001b[1;34m\u001b[0m\n\u001b[0;32m      2\u001b[0m \u001b[1;33m\u001b[0m\u001b[0m\n\u001b[0;32m      3\u001b[0m \u001b[1;31m#query string imported from the query files\u001b[0m\u001b[1;33m\u001b[0m\u001b[1;33m\u001b[0m\u001b[1;33m\u001b[0m\u001b[0m\n\u001b[1;32m----> 4\u001b[1;33m \u001b[0mqueryA\u001b[0m \u001b[1;33m=\u001b[0m \u001b[0mqueries\u001b[0m\u001b[1;33m.\u001b[0m\u001b[0mdata_limit_exceed_time_days_dlist\u001b[0m\u001b[1;33m\u001b[0m\u001b[1;33m\u001b[0m\u001b[0m\n\u001b[0m\u001b[0;32m      5\u001b[0m \u001b[0mqueryB\u001b[0m \u001b[1;33m=\u001b[0m \u001b[0mqueries\u001b[0m\u001b[1;33m.\u001b[0m\u001b[0mdata_limit_exceed_time_pure_average\u001b[0m\u001b[1;33m\u001b[0m\u001b[1;33m\u001b[0m\u001b[0m\n\u001b[0;32m      6\u001b[0m \u001b[0mqueryC\u001b[0m \u001b[1;33m=\u001b[0m \u001b[1;34m\"queries.-----\"\u001b[0m\u001b[1;33m\u001b[0m\u001b[1;33m\u001b[0m\u001b[0m\n",
      "\u001b[1;31mAttributeError\u001b[0m: module 'queries' has no attribute 'data_limit_exceed_time_days_dlist'"
     ]
    }
   ],
   "source": [
    "#ODBC connection to TERADATA\n",
    "\n",
    "#query string imported from the query files\n",
    "queryA = queries.data_limit_exceed_time_pure_average\n",
    "queryB = queries.data_limit_exceed_time_days_dlist\n",
    "queryC = queries.data_limit_exceed_time_average_by_plans\n",
    "\n",
    "#connection string object.\n",
    "conn = 'DRIVER={DRIVERNAME};DBCNAME={hostname};UID={uid};PWD={pwd};authentication={auth}'.format(\n",
    "                            DRIVERNAME='databaseDriver',\n",
    "                            hostname='ip_address',\n",
    "                            uid=credentials.tera_username,\n",
    "                            pwd=credentials.tera_password,\n",
    "                            auth='LDAP') #to log as script\n",
    "\n",
    "#Database connection object.\n",
    "connection = pyodbc.connect(conn)\n",
    "\n",
    "#Retrieve data to dataFrame\n",
    "with pyodbc.connect(conn) as connect:\n",
    "    df0 = pd.read_sql(queryA,connect)\n",
    "    df1 = pd.read_sql(queryB,connect)\n",
    "    df2 = pd.read_sql(queryC,connect)\n",
    "\n",
    "#-------------------------------------------------------------------------\n",
    "    # Push Data to teradata tables\n",
    "#-------------------------------------------------------------------------\n",
    "\n",
    "#Enable autocommit for DDL commands\n",
    "connection.autocommit = True;\n",
    "\n",
    "#Cursor handler for the sql statements, this will be used to push data into the database.\n",
    "cursor = connection.cursor() \n",
    "\n",
    "#Insert Values from Dataframe pure_average into teradata\n",
    "cursor.executemany(f\"\"\"INSERT INTO USER_DW.data_limit_exceed_time_pure_average VALUES (CAST(? AS DATE FORMAT 'MM/DD/YYYY'),?,?,?,?)\"\"\",\n",
    "                   pure_average.values.tolist())\n",
    "\n",
    "#Insert Values from Dataframe days_dlist into teradata\n",
    "cursor.executemany(f\"\"\"INSERT INTO USER_DW.data_limit_exceed_time_days_dlist VALUES (CAST(? AS DATE FORMAT 'MM/DD/YYYY'),?,?,?)\"\"\",\n",
    "                   days_dlist.values.tolist())\n",
    "\n",
    "#Insert Values from Dataframe average_by_plans into teradata\n",
    "cursor.executemany(f\"\"\"INSERT INTO USER_DW.data_limit_exceed_time_average_by_plans VALUES (CAST(? AS DATE FORMAT 'MM/DD/YYYY'),?,?,?)\"\"\",\n",
    "                   average_by_plans.values.tolist())\n",
    "\n",
    "#-------------------------------------------------------------------------\n",
    "\n",
    "#close cursor to close connection\n",
    "cursor.close()\n",
    "\n",
    "#close connection so it does not take resources\n",
    "connection.close()\n"
   ]
  },
  {
   "cell_type": "markdown",
   "metadata": {},
   "source": [
    "# LOGIC APPLIED"
   ]
  },
  {
   "cell_type": "markdown",
   "metadata": {},
   "source": [
    "No logic, the data is a direct pull from a TDIDW and push to TMOREVAMP"
   ]
  },
  {
   "cell_type": "markdown",
   "metadata": {},
   "source": [
    "# TEST DATA"
   ]
  },
  {
   "cell_type": "code",
   "execution_count": 73,
   "metadata": {},
   "outputs": [],
   "source": [
    "USER_DW_average_by_plans = [['2/31/2020', '0GB', 0 , '0'],['3/31/2020', 'x', 1 , 'x'], ['4/30/2020','2GB',2,'2'],['4/30/2020','x',2,'x']]\n",
    "df00 = pd.DataFrame( USER_DW_average_by_plans, columns = [ 'eom_dt', 'plans', 'avg_days', \"user_cnt\" ] )\n",
    "\n",
    "new_average_by_plans = [['3/31/2020', '1GB', 1 , '1'], ['4/30/2020','2GB',2,'2'],['5/31/2020','3GB',3,'3']]\n",
    "df01 = pd.DataFrame( new_average_by_plans, columns = [ 'eom_dt', 'plans', 'avg_days', \"user_cnt\" ] )"
   ]
  },
  {
   "cell_type": "code",
   "execution_count": 74,
   "metadata": {},
   "outputs": [
    {
     "data": {
      "text/html": [
       "<div>\n",
       "<style scoped>\n",
       "    .dataframe tbody tr th:only-of-type {\n",
       "        vertical-align: middle;\n",
       "    }\n",
       "\n",
       "    .dataframe tbody tr th {\n",
       "        vertical-align: top;\n",
       "    }\n",
       "\n",
       "    .dataframe thead th {\n",
       "        text-align: right;\n",
       "    }\n",
       "</style>\n",
       "<table border=\"1\" class=\"dataframe\">\n",
       "  <thead>\n",
       "    <tr style=\"text-align: right;\">\n",
       "      <th></th>\n",
       "      <th>eom_dt</th>\n",
       "      <th>plans</th>\n",
       "      <th>avg_days</th>\n",
       "      <th>user_cnt</th>\n",
       "    </tr>\n",
       "  </thead>\n",
       "  <tbody>\n",
       "    <tr>\n",
       "      <th>0</th>\n",
       "      <td>2/31/2020</td>\n",
       "      <td>0GB</td>\n",
       "      <td>0</td>\n",
       "      <td>0</td>\n",
       "    </tr>\n",
       "    <tr>\n",
       "      <th>1</th>\n",
       "      <td>3/31/2020</td>\n",
       "      <td>x</td>\n",
       "      <td>1</td>\n",
       "      <td>x</td>\n",
       "    </tr>\n",
       "    <tr>\n",
       "      <th>2</th>\n",
       "      <td>4/30/2020</td>\n",
       "      <td>2GB</td>\n",
       "      <td>2</td>\n",
       "      <td>2</td>\n",
       "    </tr>\n",
       "    <tr>\n",
       "      <th>3</th>\n",
       "      <td>4/30/2020</td>\n",
       "      <td>x</td>\n",
       "      <td>2</td>\n",
       "      <td>x</td>\n",
       "    </tr>\n",
       "  </tbody>\n",
       "</table>\n",
       "</div>"
      ],
      "text/plain": [
       "      eom_dt plans  avg_days user_cnt\n",
       "0  2/31/2020   0GB         0        0\n",
       "1  3/31/2020     x         1        x\n",
       "2  4/30/2020   2GB         2        2\n",
       "3  4/30/2020     x         2        x"
      ]
     },
     "execution_count": 74,
     "metadata": {},
     "output_type": "execute_result"
    }
   ],
   "source": [
    "df00"
   ]
  },
  {
   "cell_type": "code",
   "execution_count": 75,
   "metadata": {},
   "outputs": [
    {
     "data": {
      "text/html": [
       "<div>\n",
       "<style scoped>\n",
       "    .dataframe tbody tr th:only-of-type {\n",
       "        vertical-align: middle;\n",
       "    }\n",
       "\n",
       "    .dataframe tbody tr th {\n",
       "        vertical-align: top;\n",
       "    }\n",
       "\n",
       "    .dataframe thead th {\n",
       "        text-align: right;\n",
       "    }\n",
       "</style>\n",
       "<table border=\"1\" class=\"dataframe\">\n",
       "  <thead>\n",
       "    <tr style=\"text-align: right;\">\n",
       "      <th></th>\n",
       "      <th>eom_dt</th>\n",
       "      <th>plans</th>\n",
       "      <th>avg_days</th>\n",
       "      <th>user_cnt</th>\n",
       "    </tr>\n",
       "  </thead>\n",
       "  <tbody>\n",
       "    <tr>\n",
       "      <th>0</th>\n",
       "      <td>3/31/2020</td>\n",
       "      <td>1GB</td>\n",
       "      <td>1</td>\n",
       "      <td>1</td>\n",
       "    </tr>\n",
       "    <tr>\n",
       "      <th>1</th>\n",
       "      <td>4/30/2020</td>\n",
       "      <td>2GB</td>\n",
       "      <td>2</td>\n",
       "      <td>2</td>\n",
       "    </tr>\n",
       "    <tr>\n",
       "      <th>2</th>\n",
       "      <td>5/31/2020</td>\n",
       "      <td>3GB</td>\n",
       "      <td>3</td>\n",
       "      <td>3</td>\n",
       "    </tr>\n",
       "  </tbody>\n",
       "</table>\n",
       "</div>"
      ],
      "text/plain": [
       "      eom_dt plans  avg_days user_cnt\n",
       "0  3/31/2020   1GB         1        1\n",
       "1  4/30/2020   2GB         2        2\n",
       "2  5/31/2020   3GB         3        3"
      ]
     },
     "execution_count": 75,
     "metadata": {},
     "output_type": "execute_result"
    }
   ],
   "source": [
    "df01"
   ]
  },
  {
   "cell_type": "markdown",
   "metadata": {},
   "source": [
    "# LOGIC A"
   ]
  },
  {
   "cell_type": "markdown",
   "metadata": {},
   "source": [
    "1 - Get the data from both dataframes into a list format.\\\n",
    "2 - Get the rows from the new production table that are not in the USER_DW table.\\\n",
    "3 - Create a dataframe with only the new stuff.\\\n",
    "4 - Push new rows to the USER_DW tables using the cursor.execute()."
   ]
  },
  {
   "cell_type": "code",
   "execution_count": 124,
   "metadata": {},
   "outputs": [],
   "source": [
    "def get_new_full_rows(df_old, df_new):\n",
    "    df_old_listOfRows = df_old.values.tolist() #pandas to listA\n",
    "    df_new_listOfRows = df_new.values.tolist() # pandas to listB\n",
    "    diff_rows = [i for i in df_new_listOfRows if i not in df_old_listOfRows] #get list of new rows\n",
    "    return diff_rows"
   ]
  },
  {
   "cell_type": "code",
   "execution_count": 125,
   "metadata": {},
   "outputs": [
    {
     "data": {
      "text/html": [
       "<div>\n",
       "<style scoped>\n",
       "    .dataframe tbody tr th:only-of-type {\n",
       "        vertical-align: middle;\n",
       "    }\n",
       "\n",
       "    .dataframe tbody tr th {\n",
       "        vertical-align: top;\n",
       "    }\n",
       "\n",
       "    .dataframe thead th {\n",
       "        text-align: right;\n",
       "    }\n",
       "</style>\n",
       "<table border=\"1\" class=\"dataframe\">\n",
       "  <thead>\n",
       "    <tr style=\"text-align: right;\">\n",
       "      <th></th>\n",
       "      <th>eom_dt</th>\n",
       "      <th>plans</th>\n",
       "      <th>avg_days</th>\n",
       "      <th>user_cnt</th>\n",
       "    </tr>\n",
       "  </thead>\n",
       "  <tbody>\n",
       "    <tr>\n",
       "      <th>0</th>\n",
       "      <td>3/31/2020</td>\n",
       "      <td>1GB</td>\n",
       "      <td>1</td>\n",
       "      <td>1</td>\n",
       "    </tr>\n",
       "    <tr>\n",
       "      <th>1</th>\n",
       "      <td>4/30/2020</td>\n",
       "      <td>2GB</td>\n",
       "      <td>2</td>\n",
       "      <td>2</td>\n",
       "    </tr>\n",
       "    <tr>\n",
       "      <th>2</th>\n",
       "      <td>5/31/2020</td>\n",
       "      <td>3GB</td>\n",
       "      <td>3</td>\n",
       "      <td>3</td>\n",
       "    </tr>\n",
       "    <tr>\n",
       "      <th>3</th>\n",
       "      <td>2/31/2020</td>\n",
       "      <td>0GB</td>\n",
       "      <td>0</td>\n",
       "      <td>0</td>\n",
       "    </tr>\n",
       "  </tbody>\n",
       "</table>\n",
       "</div>"
      ],
      "text/plain": [
       "      eom_dt plans  avg_days user_cnt\n",
       "0  3/31/2020   1GB         1        1\n",
       "1  4/30/2020   2GB         2        2\n",
       "2  5/31/2020   3GB         3        3\n",
       "3  2/31/2020   0GB         0        0"
      ]
     },
     "execution_count": 125,
     "metadata": {},
     "output_type": "execute_result"
    }
   ],
   "source": [
    "newRows_df02 = get_new_rows(df00,df01)\n",
    "df02 = pd.DataFrame( newRows_df02, columns = [ 'eom_dt', 'plans', 'avg_days', \"user_cnt\" ] )\n",
    "df02"
   ]
  },
  {
   "cell_type": "code",
   "execution_count": 107,
   "metadata": {},
   "outputs": [],
   "source": [
    "#JDBC driver for spark.\n",
    "#driver needs to be configured first.\n",
    "#pyodbc.connect?"
   ]
  },
  {
   "cell_type": "markdown",
   "metadata": {},
   "source": [
    "# LOGIC B"
   ]
  },
  {
   "cell_type": "markdown",
   "metadata": {},
   "source": [
    "1 - Get the data from both dataframes into a list format.\\\n",
    "2 - Get a flat list of dates for each dataframe.\\\n",
    "3 - Find what dates are only available in the old list (these are the old rows we will keep).\\\n",
    "4 - Get all the rows from  df_old_listOfRows that match the oldDatesOnly.\\\n",
    "5 - Get all the rows from df_new_listOfRows that match the remaining dates not included in oldDatesOnly.\\\n",
    "6 - Concatenate both lists and dump them into a dataframe.\\\n",
    "7 - This will be the new table to push to USER_DW"
   ]
  },
  {
   "cell_type": "code",
   "execution_count": 117,
   "metadata": {},
   "outputs": [
    {
     "data": {
      "text/html": [
       "<div>\n",
       "<style scoped>\n",
       "    .dataframe tbody tr th:only-of-type {\n",
       "        vertical-align: middle;\n",
       "    }\n",
       "\n",
       "    .dataframe tbody tr th {\n",
       "        vertical-align: top;\n",
       "    }\n",
       "\n",
       "    .dataframe thead th {\n",
       "        text-align: right;\n",
       "    }\n",
       "</style>\n",
       "<table border=\"1\" class=\"dataframe\">\n",
       "  <thead>\n",
       "    <tr style=\"text-align: right;\">\n",
       "      <th></th>\n",
       "      <th>eom_dt</th>\n",
       "      <th>plans</th>\n",
       "      <th>avg_days</th>\n",
       "      <th>user_cnt</th>\n",
       "    </tr>\n",
       "  </thead>\n",
       "  <tbody>\n",
       "    <tr>\n",
       "      <th>0</th>\n",
       "      <td>3/31/2020</td>\n",
       "      <td>1GB</td>\n",
       "      <td>1</td>\n",
       "      <td>1</td>\n",
       "    </tr>\n",
       "    <tr>\n",
       "      <th>1</th>\n",
       "      <td>4/30/2020</td>\n",
       "      <td>2GB</td>\n",
       "      <td>2</td>\n",
       "      <td>2</td>\n",
       "    </tr>\n",
       "    <tr>\n",
       "      <th>2</th>\n",
       "      <td>5/31/2020</td>\n",
       "      <td>3GB</td>\n",
       "      <td>3</td>\n",
       "      <td>3</td>\n",
       "    </tr>\n",
       "    <tr>\n",
       "      <th>3</th>\n",
       "      <td>2/31/2020</td>\n",
       "      <td>0GB</td>\n",
       "      <td>0</td>\n",
       "      <td>0</td>\n",
       "    </tr>\n",
       "  </tbody>\n",
       "</table>\n",
       "</div>"
      ],
      "text/plain": [
       "      eom_dt plans  avg_days user_cnt\n",
       "0  3/31/2020   1GB         1        1\n",
       "1  4/30/2020   2GB         2        2\n",
       "2  5/31/2020   3GB         3        3\n",
       "3  2/31/2020   0GB         0        0"
      ]
     },
     "execution_count": 117,
     "metadata": {},
     "output_type": "execute_result"
    }
   ],
   "source": [
    "def get_new_rows(df_old, df_new):\n",
    "    \n",
    "    df_old_listOfRows = df_old.values.tolist() # pandas to listB\n",
    "    df_new_listOfRows = df_new.values.tolist() #pandas to listA\n",
    "\n",
    "    df_old_dates = list(zip(*df_old_listOfRows))[0] #get all the dates for listB\n",
    "    df_new_dates =  list(zip(*df_new_listOfRows))[0] #get all the dates for listA\n",
    "\n",
    "    oldDatesOnly = [i for i in df_old_dates if i not in df_new_dates] #get the old dates only\n",
    "\n",
    "    oldRowsOnly = [i for i in df_old_listOfRows if i[0] in oldDatesOnly] #get the rows from old dataframe match old dates only.\n",
    "    newRowsOnly = [i for i in df_new_listOfRows if i[0] in df_new_dates] #get the rows from new dataframe that match new dates only.\n",
    "\n",
    "    freshData = newRowsOnly + oldRowsOnly\n",
    "    \n",
    "    return(freshData)\n",
    "\n",
    "df03 = get_new_rows(df00,df01)\n",
    "dataToPush = pd.DataFrame( df03, columns = [ 'eom_dt', 'plans', 'avg_days', \"user_cnt\" ] )\n",
    "dataToPush"
   ]
  }
 ],
 "metadata": {
  "kernelspec": {
   "display_name": "Python 3",
   "language": "python",
   "name": "python3"
  },
  "language_info": {
   "codemirror_mode": {
    "name": "ipython",
    "version": 3
   },
   "file_extension": ".py",
   "mimetype": "text/x-python",
   "name": "python",
   "nbconvert_exporter": "python",
   "pygments_lexer": "ipython3",
   "version": "3.8.3"
  }
 },
 "nbformat": 4,
 "nbformat_minor": 4
}

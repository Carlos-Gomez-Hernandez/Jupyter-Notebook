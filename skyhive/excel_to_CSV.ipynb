{
 "cells": [
  {
   "cell_type": "code",
   "execution_count": 2,
   "metadata": {},
   "outputs": [],
   "source": [
    "\n",
    "import pandas as pd\n",
    "\n",
    "read_file = pd.read_excel (r'C:\\espacios\\Jupyter-Notebook\\skyhive\\Data Analyst Report Writer Sample Dataset.xlsx')\n",
    "read_file.to_csv (r'C:\\espacios\\Jupyter-Notebook\\skyhive\\Data Analyst Report Writer Sample Dataset.csv', index = None, header=True)\n",
    "\n",
    "\n",
    "# FOR EXCEL SHEETS IN PARTICULAR\n",
    "#import pandas as pd\n",
    "\n",
    "#read_file = pd.read_excel (r'Path where the Excel file is stored\\File name.xlsx', sheet_name='Your Excel sheet name')\n",
    "#read_file.to_csv (r'Path to store the CSV file\\File name.csv', index = None, header=True)"
   ]
  },
  {
   "cell_type": "code",
   "execution_count": null,
   "metadata": {},
   "outputs": [],
   "source": []
  }
 ],
 "metadata": {
  "kernelspec": {
   "display_name": "Python 3",
   "language": "python",
   "name": "python3"
  },
  "language_info": {
   "codemirror_mode": {
    "name": "ipython",
    "version": 3
   },
   "file_extension": ".py",
   "mimetype": "text/x-python",
   "name": "python",
   "nbconvert_exporter": "python",
   "pygments_lexer": "ipython3",
   "version": "3.8.3"
  }
 },
 "nbformat": 4,
 "nbformat_minor": 4
}
